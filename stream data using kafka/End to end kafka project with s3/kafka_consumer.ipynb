{
 "cells": [
  {
   "cell_type": "code",
   "execution_count": 20,
   "id": "cfbb6e35",
   "metadata": {},
   "outputs": [],
   "source": [
    "from kafka import KafkaConsumer\n",
    "from time import sleep\n",
    "from json import dumps,loads\n",
    "import json\n",
    "from s3fs import S3FileSystem\n",
    "import s3fs\n",
    "import boto3\n",
    "import os"
   ]
  },
  {
   "cell_type": "code",
   "execution_count": 2,
   "id": "61ce103c",
   "metadata": {},
   "outputs": [],
   "source": [
    "consumer = KafkaConsumer(\n",
    "    'news',\n",
    "     bootstrap_servers=['52.91.174.173:9092'], #add your IP here\n",
    "    value_deserializer=lambda x: loads(x.decode('utf-8')))"
   ]
  },
  {
   "cell_type": "code",
   "execution_count": 3,
   "id": "c3161d3d",
   "metadata": {},
   "outputs": [],
   "source": [
    "client = boto3.client('s3',\n",
    "                        aws_access_key_id = '',\n",
    "                        aws_secret_access_key = '')\n",
    "# s3 = S3FileSystem() "
   ]
  },
  {
   "cell_type": "code",
   "execution_count": 44,
   "id": "17c30843",
   "metadata": {},
   "outputs": [],
   "source": [
    "# for c in consumer:\n",
    "#     print(c.value)\n",
    "    "
   ]
  },
  {
   "cell_type": "code",
   "execution_count": 11,
   "id": "15d9b26c",
   "metadata": {},
   "outputs": [],
   "source": [
    "for count, msg in enumerate(consumer):\n",
    "     with open(\"python/data_{}.json\".format(count), 'w') as file:\n",
    "        json.dump(msg.value, file) \n"
   ]
  },
  {
   "cell_type": "code",
   "execution_count": 43,
   "id": "dca23e0b",
   "metadata": {},
   "outputs": [],
   "source": [
    "upload_file_bucket = 'auto-test-py'\n",
    "for file in os.listdir('python/'):\n",
    "    file = 'python/' + str(file)\n",
    "    upload_file_bucket = 'auto-test-py'\n",
    "    upload_file_key =  str(file)\n",
    "    client.upload_file(file, upload_file_bucket, upload_file_key)\n"
   ]
  },
  {
   "cell_type": "code",
   "execution_count": 23,
   "id": "5cb8304a",
   "metadata": {},
   "outputs": [],
   "source": [
    "# for count, i in enumerate(consumer):\n",
    "#     with s3.open(\"s3://kafka-test-storage/stock_markets_{}.json\".format(count), 'w') as file:\n",
    "#         json.dump(i.value, file)    "
   ]
  }
 ],
 "metadata": {
  "kernelspec": {
   "display_name": "Python 3 (ipykernel)",
   "language": "python",
   "name": "python3"
  },
  "language_info": {
   "codemirror_mode": {
    "name": "ipython",
    "version": 3
   },
   "file_extension": ".py",
   "mimetype": "text/x-python",
   "name": "python",
   "nbconvert_exporter": "python",
   "pygments_lexer": "ipython3",
   "version": "3.9.7"
  }
 },
 "nbformat": 4,
 "nbformat_minor": 5
}
