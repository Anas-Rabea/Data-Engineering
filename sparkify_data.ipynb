{
  "cells": [
    {
      "cell_type": "code",
      "execution_count": null,
      "id": "66d6c7ae-3f83-4ec7-9159-6d30c50a5a46",
      "metadata": {
        "execution": {
          "iopub.execute_input": "2022-10-17T00:31:08.870638Z",
          "iopub.status.busy": "2022-10-17T00:31:08.870294Z",
          "iopub.status.idle": "2022-10-17T00:31:34.442687Z",
          "shell.execute_reply": "2022-10-17T00:31:34.440067Z",
          "shell.execute_reply.started": "2022-10-17T00:31:08.870608Z"
        },
        "colab": {
          "referenced_widgets": [
            "3208389a5e5f4d1ebbae06aa1ad3d829",
            ""
          ]
        },
        "id": "66d6c7ae-3f83-4ec7-9159-6d30c50a5a46",
        "outputId": "0199f89f-3d3b-4d36-ca01-00e48bc1261e"
      },
      "outputs": [
        {
          "data": {
            "application/vnd.jupyter.widget-view+json": {
              "model_id": "3208389a5e5f4d1ebbae06aa1ad3d829",
              "version_major": 2,
              "version_minor": 0
            },
            "text/plain": [
              "VBox()"
            ]
          },
          "metadata": {},
          "output_type": "display_data"
        },
        {
          "name": "stdout",
          "output_type": "stream",
          "text": [
            "Starting Spark application\n"
          ]
        },
        {
          "data": {
            "text/html": [
              "<table>\n",
              "<tr><th>ID</th><th>YARN Application ID</th><th>Kind</th><th>State</th><th>Spark UI</th><th>Driver log</th><th>Current session?</th></tr><tr><td>0</td><td>application_1665966288284_0001</td><td>pyspark</td><td>idle</td><td><a target=\"_blank\" href=\"http://ip-172-31-43-16.us-east-2.compute.internal:20888/proxy/application_1665966288284_0001/\">Link</a></td><td><a target=\"_blank\" href=\"http://ip-172-31-40-230.us-east-2.compute.internal:8042/node/containerlogs/container_1665966288284_0001_01_000001/livy\">Link</a></td><td>✔</td></tr></table>"
            ],
            "text/plain": [
              "<IPython.core.display.HTML object>"
            ]
          },
          "metadata": {},
          "output_type": "display_data"
        },
        {
          "data": {
            "application/vnd.jupyter.widget-view+json": {
              "model_id": "",
              "version_major": 2,
              "version_minor": 0
            },
            "text/plain": [
              "FloatProgress(value=0.0, bar_style='info', description='Progress:', layout=Layout(height='25px', width='50%'),…"
            ]
          },
          "metadata": {},
          "output_type": "display_data"
        },
        {
          "name": "stdout",
          "output_type": "stream",
          "text": [
            "SparkSession available as 'spark'.\n"
          ]
        },
        {
          "data": {
            "application/vnd.jupyter.widget-view+json": {
              "model_id": "",
              "version_major": 2,
              "version_minor": 0
            },
            "text/plain": [
              "FloatProgress(value=0.0, bar_style='info', description='Progress:', layout=Layout(height='25px', width='50%'),…"
            ]
          },
          "metadata": {},
          "output_type": "display_data"
        },
        {
          "name": "stdout",
          "output_type": "stream",
          "text": [
            "<pyspark.sql.session.SparkSession object at 0x7f983453efd0>"
          ]
        }
      ],
      "source": [
        "spark"
      ]
    },
    {
      "cell_type": "code",
      "execution_count": null,
      "id": "e6804e93-92b0-41c3-8c3e-2a69b0a294be",
      "metadata": {
        "execution": {
          "iopub.execute_input": "2022-10-17T00:35:37.566922Z",
          "iopub.status.busy": "2022-10-17T00:35:37.566237Z",
          "iopub.status.idle": "2022-10-17T00:35:37.893409Z",
          "shell.execute_reply": "2022-10-17T00:35:37.892385Z",
          "shell.execute_reply.started": "2022-10-17T00:35:37.566885Z"
        },
        "tags": [],
        "colab": {
          "referenced_widgets": [
            "c9ca22892ac24ffa9c8875d58ac07f24",
            ""
          ]
        },
        "id": "e6804e93-92b0-41c3-8c3e-2a69b0a294be",
        "outputId": "b610ba04-59bd-4a52-ae9d-e3f6db5f54b0"
      },
      "outputs": [
        {
          "data": {
            "application/vnd.jupyter.widget-view+json": {
              "model_id": "c9ca22892ac24ffa9c8875d58ac07f24",
              "version_major": 2,
              "version_minor": 0
            },
            "text/plain": [
              "VBox()"
            ]
          },
          "metadata": {},
          "output_type": "display_data"
        },
        {
          "data": {
            "application/vnd.jupyter.widget-view+json": {
              "model_id": "",
              "version_major": 2,
              "version_minor": 0
            },
            "text/plain": [
              "FloatProgress(value=0.0, bar_style='info', description='Progress:', layout=Layout(height='25px', width='50%'),…"
            ]
          },
          "metadata": {},
          "output_type": "display_data"
        }
      ],
      "source": [
        "import configparser\n",
        "from datetime import datetime\n",
        "import os, time\n",
        "from pyspark.sql.functions import *\n",
        "from pyspark.sql import SparkSession\n",
        "from pyspark.sql.functions import udf, col, unix_timestamp,lit\n",
        "from pyspark.sql.functions import year, month, dayofmonth, hour, weekofyear, date_format,dayofweek\n",
        "from io import StringIO\n",
        "from zipfile import ZipFile\n",
        "# import pandas as pd\n",
        "from pyspark.sql.types import StructType as R, StructField as Fld, DoubleType as Dbl, StringType as Str, IntegerType as Int, DateType as Date\n"
      ]
    },
    {
      "cell_type": "code",
      "execution_count": null,
      "id": "2546114d-52b2-4cd0-9e95-2e027bfccafe",
      "metadata": {
        "execution": {
          "iopub.execute_input": "2022-10-17T00:34:55.716597Z",
          "iopub.status.busy": "2022-10-17T00:34:55.716208Z",
          "iopub.status.idle": "2022-10-17T00:34:56.052578Z",
          "shell.execute_reply": "2022-10-17T00:34:56.051595Z",
          "shell.execute_reply.started": "2022-10-17T00:34:55.716564Z"
        },
        "tags": [],
        "colab": {
          "referenced_widgets": [
            "0d83e19175d14e4697838987cf30fa90",
            ""
          ]
        },
        "id": "2546114d-52b2-4cd0-9e95-2e027bfccafe",
        "outputId": "31e55fc4-7282-4094-c0e1-d3283dd6c66b"
      },
      "outputs": [
        {
          "data": {
            "application/vnd.jupyter.widget-view+json": {
              "model_id": "0d83e19175d14e4697838987cf30fa90",
              "version_major": 2,
              "version_minor": 0
            },
            "text/plain": [
              "VBox()"
            ]
          },
          "metadata": {},
          "output_type": "display_data"
        },
        {
          "data": {
            "application/vnd.jupyter.widget-view+json": {
              "model_id": "",
              "version_major": 2,
              "version_minor": 0
            },
            "text/plain": [
              "FloatProgress(value=0.0, bar_style='info', description='Progress:', layout=Layout(height='25px', width='50%'),…"
            ]
          },
          "metadata": {},
          "output_type": "display_data"
        }
      ],
      "source": [
        "config = configparser.ConfigParser()\n",
        "config.read('dl.cfg')\n",
        "\n",
        "os.environ['AWS_ACCESS_KEY_ID']= ''\n",
        "os.environ['AWS_SECRET_ACCESS_KEY']= ''"
      ]
    },
    {
      "cell_type": "code",
      "execution_count": null,
      "id": "ba2e1a83-5dcf-4249-92f7-6b87c9fdd88b",
      "metadata": {
        "execution": {
          "iopub.execute_input": "2022-10-17T01:12:20.020726Z",
          "iopub.status.busy": "2022-10-17T01:12:20.020375Z",
          "iopub.status.idle": "2022-10-17T01:12:20.352382Z",
          "shell.execute_reply": "2022-10-17T01:12:20.351365Z",
          "shell.execute_reply.started": "2022-10-17T01:12:20.020693Z"
        },
        "tags": [],
        "colab": {
          "referenced_widgets": [
            "91af6f07d27444bfbffdd83693f9cc53",
            ""
          ]
        },
        "id": "ba2e1a83-5dcf-4249-92f7-6b87c9fdd88b",
        "outputId": "1f6c1b80-acd2-4e22-f898-738a353d17ab"
      },
      "outputs": [
        {
          "data": {
            "application/vnd.jupyter.widget-view+json": {
              "model_id": "91af6f07d27444bfbffdd83693f9cc53",
              "version_major": 2,
              "version_minor": 0
            },
            "text/plain": [
              "VBox()"
            ]
          },
          "metadata": {},
          "output_type": "display_data"
        },
        {
          "data": {
            "application/vnd.jupyter.widget-view+json": {
              "model_id": "",
              "version_major": 2,
              "version_minor": 0
            },
            "text/plain": [
              "FloatProgress(value=0.0, bar_style='info', description='Progress:', layout=Layout(height='25px', width='50%'),…"
            ]
          },
          "metadata": {},
          "output_type": "display_data"
        }
      ],
      "source": [
        "def create_spark_session():\n",
        "    \"\"\"\n",
        "    create spark session with apache hadoop framworks\n",
        "    \"\"\"\n",
        "    spark = SparkSession \\\n",
        "        .builder \\\n",
        "        .config(\"spark.jars.packages\", \"org.apache.hadoop:hadoop-aws:2.7.0\") \\\n",
        "        .getOrCreate()\n",
        "    return spark\n",
        "\n",
        "\n",
        "def process_song_data(spark, input_data, output_data):\n",
        "    \"\"\"\n",
        "    process song data from s3 bucket and redesign with adding some dimension tables.\n",
        "    spark: spark session.\n",
        "    input_data: input path of data to read from\n",
        "    output_data: output path to save \n",
        "    \"\"\"\n",
        "    # get filepath to song data file\n",
        "#     input_data = \"s3a://udacity-dend/\"\n",
        "    song_data = input_data + 'song_data/A/A/A/*.json'\n",
        "    #create new schema to add during reading our data\n",
        "    Schema = R([\n",
        "    Fld(\"artist_id\",Str()),\n",
        "    Fld(\"artist_latitude\",Dbl()),\n",
        "    Fld(\"artist_location\",Str()),\n",
        "    Fld(\"artist_longitude\",Dbl()),\n",
        "    Fld(\"artist_name\",Str()),\n",
        "    Fld(\"duration\",Dbl()),\n",
        "    Fld(\"num_songs\",Dbl()),\n",
        "    Fld(\"song_id\",Str()),\n",
        "    Fld(\"title\",Str()),\n",
        "    Fld(\"year\",Int()),\n",
        "    ])\n",
        "    \n",
        "    # read song data file\n",
        "    df = spark.read.json(song_data, schema = Schema)\n",
        "\n",
        "    # extract columns to create songs table\n",
        "    songs_table = df.select(['song_id','title','year','artist_id','duration']).dropDuplicates()\n",
        "    \n",
        "    # write songs table to parquet files partitioned by year and artist\n",
        "    songs_table.write.parquet(output_data +'songs/')\n",
        "\n",
        "    # extract columns to create artists table\n",
        "    artists_table = df.select(['artist_id', 'artist_name','artist_latitude','artist_location','artist_longitude'])\n",
        "    \n",
        "    # write artists table to parquet files\n",
        "    artists_table.write.parquet(output_data + 'artists/')\n"
      ]
    },
    {
      "cell_type": "code",
      "execution_count": null,
      "id": "6e431537-88f0-4b70-8ba4-1d2ff6d3ef0f",
      "metadata": {
        "execution": {
          "iopub.execute_input": "2022-10-17T01:12:21.212989Z",
          "iopub.status.busy": "2022-10-17T01:12:21.212645Z",
          "iopub.status.idle": "2022-10-17T01:12:21.549467Z",
          "shell.execute_reply": "2022-10-17T01:12:21.548606Z",
          "shell.execute_reply.started": "2022-10-17T01:12:21.212959Z"
        },
        "tags": [],
        "colab": {
          "referenced_widgets": [
            "2e1861af65f44de1900f20170e431cc4",
            ""
          ]
        },
        "id": "6e431537-88f0-4b70-8ba4-1d2ff6d3ef0f",
        "outputId": "6aab0ec8-b20d-48db-db8b-dbf248dcf205"
      },
      "outputs": [
        {
          "data": {
            "application/vnd.jupyter.widget-view+json": {
              "model_id": "2e1861af65f44de1900f20170e431cc4",
              "version_major": 2,
              "version_minor": 0
            },
            "text/plain": [
              "VBox()"
            ]
          },
          "metadata": {},
          "output_type": "display_data"
        },
        {
          "data": {
            "application/vnd.jupyter.widget-view+json": {
              "model_id": "",
              "version_major": 2,
              "version_minor": 0
            },
            "text/plain": [
              "FloatProgress(value=0.0, bar_style='info', description='Progress:', layout=Layout(height='25px', width='50%'),…"
            ]
          },
          "metadata": {},
          "output_type": "display_data"
        }
      ],
      "source": [
        "def process_log_data(spark, input_data, output_data):\n",
        "    \n",
        "    \"\"\"\n",
        "    process logs data from s3 bucket and redesign with adding some dimension tables.\n",
        "    spark: spark session.\n",
        "    input_data: input path of data to read log data from\n",
        "    output_data: output path to save \n",
        "    \"\"\"\n",
        "    \n",
        "\n",
        "\n",
        "    # get filepath to log data file\n",
        "    log_data = 's3a://udacity-dend/log_data/*/*/*.json'\n",
        "\n",
        "\n",
        "    # read log data file\n",
        "    df = spark.read.json(log_data)\n",
        "    \n",
        "    # filter by actions for song plays\n",
        "    df =  df.filter(\"page == 'NextSong'\").dropDuplicates()\n",
        "\n",
        "    # extract columns for users table    \n",
        "    user_table = df.select(['firstName','gender','userId','level','lastName']).dropDuplicates()\n",
        "    \n",
        "    # write users table to parquet files\n",
        "    user_table.write.parquet(output_data + 'users/')\n",
        "\n",
        "    # create timestamp column from original timestamp column\n",
        "    get_timestamp = udf(lambda x: datetime.fromtimestamp(x / 1000.0))\n",
        "    new_df_logs = df.withColumn(\"timestamp\",get_timestamp(df.ts))\n",
        "    \n",
        "    # create datetime column from original timestamp column\n",
        "    pattern = r'(?:.*)YEAR=(\\d+).+?MONTH=(\\d+).+?DAY_OF_MONTH=(\\d+).+?HOUR=(\\d+).+?MINUTE=(\\d+).+?SECOND=(\\d+).+'\n",
        "    new_df_logs = new_df_logs.withColumn('timest', regexp_replace('timestamp', pattern, '$1-$2-$3 $4:$5:$6').cast('timestamp'))\n",
        "    new_df_logs = new_df_logs.withColumn('month',month(new_df_logs.timest))\\\n",
        "        .withColumn(\"hour\",hour(new_df_logs.timest))\\\n",
        "        .withColumn(\"year\",year(new_df_logs.timest))\\\n",
        "        .withColumn(\"day\",dayofmonth(new_df_logs.timest))\\\n",
        "        .withColumn(\"week\",weekofyear(new_df_logs.timest))\\\n",
        "        .withColumn('weekday', dayofweek('timest'))\n",
        "    \n",
        "    # extract columns to create time table\n",
        "    time_table = new_df_logs.select([\"timest\"])\\\n",
        "        .withColumn(\"hour\",hour(new_df_logs.timest))\\\n",
        "        .withColumn(\"month\",month(new_df_logs.timest))\\\n",
        "        .withColumn(\"year\",year(new_df_logs.timest))\\\n",
        "        .withColumn(\"day\",dayofmonth(new_df_logs.timest))\\\n",
        "        .withColumn(\"week\",weekofyear(new_df_logs.timest))\\\n",
        "        .withColumn('weekday', dayofweek('timest')).dropDuplicates()\n",
        "\n",
        "    \n",
        "    # write time table to parquet files partitioned by year and month\n",
        "    time_table.write.partitionBy(\"year\", \"month\").parquet(output_data + 'time/')\n",
        "\n",
        "\n",
        "    # read in song data to use for songplays table\n",
        "    song_df = spark.read.parquet(output_data + 'songs/')\n",
        "    df10 = song_df.join(artists_table,(song_df.artist_id == artists_table.artist_id))\\\n",
        "        .drop(song_df.artist_id)\\\n",
        "        .drop(song_df.year)\n",
        "    df20 = df10.join(new_df_logs,(df10.artist_name == new_df_logs.artist))\n",
        "\n",
        "    # extract columns from joined song and log datasets to create songplays table \n",
        "    songplays_table = df20.select(\\\n",
        "    col('timest').alias('start_time'),\n",
        "        col('userId').alias('user_id'),\n",
        "        col('level').alias('level'),\n",
        "        col('song_id').alias('song_id'),\n",
        "        col('artist_id').alias('artist_id'),\n",
        "        col('sessionId').alias('session_id'),\n",
        "        col('location').alias('location'),\n",
        "        col('userAgent').alias('user_agent'),\n",
        "        col('year').alias('year'),\n",
        "        col('month').alias('month'))\\\n",
        "        .repartition(\"year\", \"month\").dropDuplicates()\n",
        "\n",
        "\n",
        "    # write songplays table to parquet files partitioned by year and month\n",
        "    songplays_table.write.partitionBy(\"year\", \"month\").parquet(output_data + 'songplays/')\n",
        "\n",
        "\n"
      ]
    },
    {
      "cell_type": "code",
      "execution_count": null,
      "id": "0bac4201-094c-43a2-afdb-4c6527b637ef",
      "metadata": {
        "execution": {
          "iopub.execute_input": "2022-10-17T01:14:49.348985Z",
          "iopub.status.busy": "2022-10-17T01:14:49.347837Z",
          "iopub.status.idle": "2022-10-17T01:14:49.667058Z",
          "shell.execute_reply": "2022-10-17T01:14:49.665114Z",
          "shell.execute_reply.started": "2022-10-17T01:14:49.348944Z"
        },
        "tags": [],
        "colab": {
          "referenced_widgets": [
            "b4fc22a2983146fa9848439c12ea50ad",
            ""
          ]
        },
        "id": "0bac4201-094c-43a2-afdb-4c6527b637ef",
        "outputId": "0ceb59b6-2e9c-4251-fca3-cdd2ababf9de"
      },
      "outputs": [
        {
          "data": {
            "application/vnd.jupyter.widget-view+json": {
              "model_id": "b4fc22a2983146fa9848439c12ea50ad",
              "version_major": 2,
              "version_minor": 0
            },
            "text/plain": [
              "VBox()"
            ]
          },
          "metadata": {},
          "output_type": "display_data"
        },
        {
          "data": {
            "application/vnd.jupyter.widget-view+json": {
              "model_id": "",
              "version_major": 2,
              "version_minor": 0
            },
            "text/plain": [
              "FloatProgress(value=0.0, bar_style='info', description='Progress:', layout=Layout(height='25px', width='50%'),…"
            ]
          },
          "metadata": {},
          "output_type": "display_data"
        }
      ],
      "source": [
        "def main():\n",
        "    \"\"\"\n",
        "    create spark session and run song and log processing functions\n",
        "    \"\"\"\n",
        "    spark = create_spark_session()\n",
        "    input_data = \"s3a://udacity-dend/\"\n",
        "    output_data = \"s3a://datalake-result/\"\n",
        "\n",
        "    \n",
        "    process_song_data(spark, input_data, output_data)    \n",
        "    process_log_data(spark, input_data, output_data)\n"
      ]
    },
    {
      "cell_type": "code",
      "execution_count": null,
      "id": "16316dfd-f828-4025-9af1-41eb89f9df80",
      "metadata": {
        "execution": {
          "iopub.execute_input": "2022-10-17T01:14:49.896768Z",
          "iopub.status.busy": "2022-10-17T01:14:49.896420Z",
          "iopub.status.idle": "2022-10-17T01:20:16.265961Z",
          "shell.execute_reply": "2022-10-17T01:20:16.264927Z",
          "shell.execute_reply.started": "2022-10-17T01:14:49.896734Z"
        },
        "tags": [],
        "colab": {
          "referenced_widgets": [
            "2ead7a489e2441f5b624ab8ee53b1140",
            ""
          ]
        },
        "id": "16316dfd-f828-4025-9af1-41eb89f9df80",
        "outputId": "34920a1e-3244-4328-c48f-ef1ce15ee6c0"
      },
      "outputs": [
        {
          "data": {
            "application/vnd.jupyter.widget-view+json": {
              "model_id": "2ead7a489e2441f5b624ab8ee53b1140",
              "version_major": 2,
              "version_minor": 0
            },
            "text/plain": [
              "VBox()"
            ]
          },
          "metadata": {},
          "output_type": "display_data"
        },
        {
          "data": {
            "application/vnd.jupyter.widget-view+json": {
              "model_id": "",
              "version_major": 2,
              "version_minor": 0
            },
            "text/plain": [
              "FloatProgress(value=0.0, bar_style='info', description='Progress:', layout=Layout(height='25px', width='50%'),…"
            ]
          },
          "metadata": {},
          "output_type": "display_data"
        }
      ],
      "source": [
        "main()"
      ]
    },
    {
      "cell_type": "code",
      "execution_count": null,
      "id": "886cfc0d-3acd-4efc-a030-eedcd975ad15",
      "metadata": {
        "execution": {
          "iopub.execute_input": "2022-10-17T01:24:59.004690Z",
          "iopub.status.busy": "2022-10-17T01:24:59.004336Z",
          "iopub.status.idle": "2022-10-17T01:25:06.822695Z",
          "shell.execute_reply": "2022-10-17T01:25:06.821594Z",
          "shell.execute_reply.started": "2022-10-17T01:24:59.004658Z"
        },
        "tags": [],
        "colab": {
          "referenced_widgets": [
            "ca32fa437ed2482cb9b2162243819da1",
            ""
          ]
        },
        "id": "886cfc0d-3acd-4efc-a030-eedcd975ad15",
        "outputId": "1e0bd117-3e4b-44f4-b9e6-e2311abebe77"
      },
      "outputs": [
        {
          "data": {
            "application/vnd.jupyter.widget-view+json": {
              "model_id": "ca32fa437ed2482cb9b2162243819da1",
              "version_major": 2,
              "version_minor": 0
            },
            "text/plain": [
              "VBox()"
            ]
          },
          "metadata": {},
          "output_type": "display_data"
        },
        {
          "data": {
            "application/vnd.jupyter.widget-view+json": {
              "model_id": "",
              "version_major": 2,
              "version_minor": 0
            },
            "text/plain": [
              "FloatProgress(value=0.0, bar_style='info', description='Progress:', layout=Layout(height='25px', width='50%'),…"
            ]
          },
          "metadata": {},
          "output_type": "display_data"
        }
      ],
      "source": [
        "users_df = spark.read.parquet(output_data + 'users/')"
      ]
    },
    {
      "cell_type": "code",
      "execution_count": null,
      "id": "302d2a05-4dbd-4701-bb46-5e88e6fb087a",
      "metadata": {
        "execution": {
          "iopub.execute_input": "2022-10-17T01:25:18.401522Z",
          "iopub.status.busy": "2022-10-17T01:25:18.399021Z",
          "iopub.status.idle": "2022-10-17T01:25:21.248631Z",
          "shell.execute_reply": "2022-10-17T01:25:21.247012Z",
          "shell.execute_reply.started": "2022-10-17T01:25:18.401323Z"
        },
        "colab": {
          "referenced_widgets": [
            "0d4f87f014044d259705feab1f816932",
            ""
          ]
        },
        "id": "302d2a05-4dbd-4701-bb46-5e88e6fb087a",
        "outputId": "101cf0cf-129e-4e4b-f780-b4bf543977b7"
      },
      "outputs": [
        {
          "data": {
            "application/vnd.jupyter.widget-view+json": {
              "model_id": "0d4f87f014044d259705feab1f816932",
              "version_major": 2,
              "version_minor": 0
            },
            "text/plain": [
              "VBox()"
            ]
          },
          "metadata": {},
          "output_type": "display_data"
        },
        {
          "data": {
            "application/vnd.jupyter.widget-view+json": {
              "model_id": "",
              "version_major": 2,
              "version_minor": 0
            },
            "text/plain": [
              "FloatProgress(value=0.0, bar_style='info', description='Progress:', layout=Layout(height='25px', width='50%'),…"
            ]
          },
          "metadata": {},
          "output_type": "display_data"
        },
        {
          "name": "stdout",
          "output_type": "stream",
          "text": [
            "+---------+------+------+-----+---------+\n",
            "|firstName|gender|userId|level| lastName|\n",
            "+---------+------+------+-----+---------+\n",
            "| Mohammad|     M|    88| paid|Rodriguez|\n",
            "| Mohammad|     M|    88| free|Rodriguez|\n",
            "|   Jordan|     F|    68| free|Rodriguez|\n",
            "+---------+------+------+-----+---------+\n",
            "only showing top 3 rows"
          ]
        }
      ],
      "source": [
        "users_df.show(3)"
      ]
    },
    {
      "cell_type": "code",
      "execution_count": null,
      "id": "674e6e50-326b-43da-8936-8ed4bf4ebc04",
      "metadata": {
        "execution": {
          "iopub.execute_input": "2022-10-17T01:26:09.815286Z",
          "iopub.status.busy": "2022-10-17T01:26:09.814945Z",
          "iopub.status.idle": "2022-10-17T01:26:10.915243Z",
          "shell.execute_reply": "2022-10-17T01:26:10.909112Z",
          "shell.execute_reply.started": "2022-10-17T01:26:09.815256Z"
        },
        "tags": [],
        "colab": {
          "referenced_widgets": [
            "c32e0b702a0d4f76a47273bfdfaf65f7",
            ""
          ]
        },
        "id": "674e6e50-326b-43da-8936-8ed4bf4ebc04",
        "outputId": "46aa0fb3-e353-4bb5-a888-79b4f7a1c068"
      },
      "outputs": [
        {
          "data": {
            "application/vnd.jupyter.widget-view+json": {
              "model_id": "c32e0b702a0d4f76a47273bfdfaf65f7",
              "version_major": 2,
              "version_minor": 0
            },
            "text/plain": [
              "VBox()"
            ]
          },
          "metadata": {},
          "output_type": "display_data"
        },
        {
          "data": {
            "application/vnd.jupyter.widget-view+json": {
              "model_id": "",
              "version_major": 2,
              "version_minor": 0
            },
            "text/plain": [
              "FloatProgress(value=0.0, bar_style='info', description='Progress:', layout=Layout(height='25px', width='50%'),…"
            ]
          },
          "metadata": {},
          "output_type": "display_data"
        }
      ],
      "source": [
        "songplays_df = spark.read.parquet(output_data + 'songplays/')"
      ]
    },
    {
      "cell_type": "code",
      "execution_count": null,
      "id": "c0a892b0-add4-40a2-908f-b286274319fe",
      "metadata": {
        "execution": {
          "iopub.execute_input": "2022-10-17T01:26:23.561205Z",
          "iopub.status.busy": "2022-10-17T01:26:23.560849Z",
          "iopub.status.idle": "2022-10-17T01:26:24.607661Z",
          "shell.execute_reply": "2022-10-17T01:26:24.606605Z",
          "shell.execute_reply.started": "2022-10-17T01:26:23.561173Z"
        },
        "colab": {
          "referenced_widgets": [
            "22f746c02d364fadb8ca5dc65b7b313b",
            ""
          ]
        },
        "id": "c0a892b0-add4-40a2-908f-b286274319fe",
        "outputId": "c62f54c8-3c97-4936-8b83-a2ba5127c330"
      },
      "outputs": [
        {
          "data": {
            "application/vnd.jupyter.widget-view+json": {
              "model_id": "22f746c02d364fadb8ca5dc65b7b313b",
              "version_major": 2,
              "version_minor": 0
            },
            "text/plain": [
              "VBox()"
            ]
          },
          "metadata": {},
          "output_type": "display_data"
        },
        {
          "data": {
            "application/vnd.jupyter.widget-view+json": {
              "model_id": "",
              "version_major": 2,
              "version_minor": 0
            },
            "text/plain": [
              "FloatProgress(value=0.0, bar_style='info', description='Progress:', layout=Layout(height='25px', width='50%'),…"
            ]
          },
          "metadata": {},
          "output_type": "display_data"
        },
        {
          "name": "stdout",
          "output_type": "stream",
          "text": [
            "+-------------------+-------+-----+------------------+------------------+----------+--------------------+--------------------+----+-----+\n",
            "|         start_time|user_id|level|           song_id|         artist_id|session_id|            location|          user_agent|year|month|\n",
            "+-------------------+-------+-----+------------------+------------------+----------+--------------------+--------------------+----+-----+\n",
            "|2018-10-16 04:40:43|     97| paid|SOXZYWX12A6310ED0C|ARC1IHZ1187FB4E920|       633|Lansing-East Lans...|\"Mozilla/5.0 (X11...|2018|   10|\n",
            "|2018-10-30 01:20:44|     43| free|SOXZYWX12A6310ED0C|ARC1IHZ1187FB4E920|       618|San Antonio-New B...|\"Mozilla/5.0 (Win...|2018|   10|\n",
            "|2018-10-19 03:36:04|     49| paid|SOFSOCN12A8C143F5D|ARXR32B1187FB57099|       724|San Francisco-Oak...|Mozilla/5.0 (Wind...|2018|   10|\n",
            "+-------------------+-------+-----+------------------+------------------+----------+--------------------+--------------------+----+-----+\n",
            "only showing top 3 rows"
          ]
        }
      ],
      "source": [
        "songplays_df.show(3)"
      ]
    },
    {
      "cell_type": "code",
      "execution_count": null,
      "id": "64a12811-7ea9-4c64-8d34-8272b5eff12a",
      "metadata": {
        "tags": [],
        "id": "64a12811-7ea9-4c64-8d34-8272b5eff12a"
      },
      "outputs": [],
      "source": []
    },
    {
      "cell_type": "code",
      "execution_count": null,
      "id": "750c0c1c-b3c4-4745-b18f-b2cf6b0e0e29",
      "metadata": {
        "id": "750c0c1c-b3c4-4745-b18f-b2cf6b0e0e29"
      },
      "outputs": [],
      "source": []
    }
  ],
  "metadata": {
    "kernelspec": {
      "display_name": "PySpark",
      "language": "",
      "name": "pysparkkernel"
    },
    "language_info": {
      "codemirror_mode": {
        "name": "python",
        "version": 2
      },
      "mimetype": "text/x-python",
      "name": "pyspark",
      "pygments_lexer": "python2"
    },
    "colab": {
      "provenance": [],
      "collapsed_sections": []
    }
  },
  "nbformat": 4,
  "nbformat_minor": 5
}